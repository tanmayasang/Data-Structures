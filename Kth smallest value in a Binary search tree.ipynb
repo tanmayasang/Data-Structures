{
 "cells": [
  {
   "cell_type": "code",
   "execution_count": 2,
   "id": "d27d2afb",
   "metadata": {},
   "outputs": [],
   "source": [
    "class Solution:\n",
    "    def kthSmallest(self, root, k: int) -> int:\n",
    "        res = []\n",
    "        def inorder(node):\n",
    "            if not node:\n",
    "                return \n",
    "            inorder(node.left)\n",
    "            res.append(node.val)\n",
    "            inorder(node.right)\n",
    "        inorder(root)\n",
    "        return res[k-1]"
   ]
  }
 ],
 "metadata": {
  "kernelspec": {
   "display_name": "Python 3 (ipykernel)",
   "language": "python",
   "name": "python3"
  },
  "language_info": {
   "codemirror_mode": {
    "name": "ipython",
    "version": 3
   },
   "file_extension": ".py",
   "mimetype": "text/x-python",
   "name": "python",
   "nbconvert_exporter": "python",
   "pygments_lexer": "ipython3",
   "version": "3.10.13"
  }
 },
 "nbformat": 4,
 "nbformat_minor": 5
}
