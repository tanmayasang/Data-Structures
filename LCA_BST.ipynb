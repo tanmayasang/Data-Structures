{
 "cells": [
  {
   "cell_type": "code",
   "execution_count": 3,
   "id": "d27d2afb",
   "metadata": {},
   "outputs": [],
   "source": [
    "# Definition for a binary tree node.\n",
    "# class TreeNode:\n",
    "#     def __init__(self, val=0, left=None, right=None):\n",
    "#         self.val = val\n",
    "#         self.left = left\n",
    "#         self.right = right\n",
    "from collections import deque\n",
    "class Solution:\n",
    "    def rightSideView(self, root) -> [int]:\n",
    "        if not root:\n",
    "            return None\n",
    "        q = deque()\n",
    "        q.append(root)\n",
    "        res=[]\n",
    "        while q:\n",
    "            rightSide = None\n",
    "            level_len = len(q)\n",
    "            for i in range(level_len):\n",
    "                rightSide = q.popleft()\n",
    "                if rightSide.left:\n",
    "                    q.append(rightSide.left)\n",
    "                if rightSide.right:\n",
    "                    q.append(rightSide.right)\n",
    "            res.append(rightSide.val)\n",
    "        return res"
   ]
  },
  {
   "cell_type": "code",
   "execution_count": null,
   "id": "b3ae1458",
   "metadata": {},
   "outputs": [],
   "source": []
  },
  {
   "cell_type": "code",
   "execution_count": null,
   "id": "5190f944",
   "metadata": {},
   "outputs": [],
   "source": []
  }
 ],
 "metadata": {
  "kernelspec": {
   "display_name": "Python 3 (ipykernel)",
   "language": "python",
   "name": "python3"
  },
  "language_info": {
   "codemirror_mode": {
    "name": "ipython",
    "version": 3
   },
   "file_extension": ".py",
   "mimetype": "text/x-python",
   "name": "python",
   "nbconvert_exporter": "python",
   "pygments_lexer": "ipython3",
   "version": "3.10.13"
  }
 },
 "nbformat": 4,
 "nbformat_minor": 5
}
